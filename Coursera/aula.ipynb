{
 "cells": [
  {
   "cell_type": "code",
   "execution_count": null,
   "metadata": {},
   "outputs": [],
   "source": []
  },
  {
   "cell_type": "code",
   "execution_count": 31,
   "metadata": {},
   "outputs": [
    {
     "name": "stdout",
     "output_type": "stream",
     "text": [
      "Perú no va a ir al mundial de futbol Catar 2022\n"
     ]
    }
   ],
   "source": [
    "print('Perú no va a ir al mundial de futbol Catar 2022')"
   ]
  },
  {
   "cell_type": "code",
   "execution_count": 32,
   "metadata": {},
   "outputs": [
    {
     "name": "stdout",
     "output_type": "stream",
     "text": [
      "Perú nunca tuvo categoria...\n"
     ]
    }
   ],
   "source": [
    "print(\"Perú nunca tuvo categoria...\")"
   ]
  },
  {
   "cell_type": "code",
   "execution_count": 1,
   "metadata": {},
   "outputs": [
    {
     "name": "stdout",
     "output_type": "stream",
     "text": [
      "3\n",
      "5\n",
      "5\n",
      "5\n",
      "7\n",
      "7\n",
      "7\n",
      "7\n",
      "7\n",
      "9\n"
     ]
    }
   ],
   "source": [
    "for num in range(2,11):\n",
    "    prime = True\n",
    "    for i in range(2,num):\n",
    "        if(num % i == 0):\n",
    "            prime = False\n",
    "        if prime:\n",
    "            print (num)   "
   ]
  }
 ],
 "metadata": {
  "kernelspec": {
   "display_name": "Python 3.10.5 64-bit",
   "language": "python",
   "name": "python3"
  },
  "language_info": {
   "codemirror_mode": {
    "name": "ipython",
    "version": 3
   },
   "file_extension": ".py",
   "mimetype": "text/x-python",
   "name": "python",
   "nbconvert_exporter": "python",
   "pygments_lexer": "ipython3",
   "version": "3.10.5"
  },
  "orig_nbformat": 4,
  "vscode": {
   "interpreter": {
    "hash": "43020d40ed92f90b08f743a6bd722d6e942804ac8c9d6e8110c37661db1aa2be"
   }
  }
 },
 "nbformat": 4,
 "nbformat_minor": 2
}
