{
 "cells": [
  {
   "cell_type": "code",
   "execution_count": 2,
   "metadata": {},
   "outputs": [
    {
     "name": "stdout",
     "output_type": "stream",
     "text": [
      "A soma entre:  6 e 8 vale:  14\n"
     ]
    }
   ],
   "source": [
    "num1=int(input('Digite primeiro numero: '))\n",
    "num2=int(input('Digite segundo numero: '))\n",
    "op=num1+num2\n",
    "#print('A soma vale: {}'.format(op))\n",
    "print('A soma entre: ',num1,'e',num2,'vale: ',op)"
   ]
  },
  {
   "cell_type": "code",
   "execution_count": 3,
   "metadata": {},
   "outputs": [
    {
     "name": "stdout",
     "output_type": "stream",
     "text": [
      "4.0\n",
      "<class 'float'>\n"
     ]
    }
   ],
   "source": [
    "n = float(input('Digite um valor'))\n",
    "print(n)\n",
    "print(type(n))"
   ]
  },
  {
   "cell_type": "code",
   "execution_count": 4,
   "metadata": {},
   "outputs": [
    {
     "name": "stdout",
     "output_type": "stream",
     "text": [
      "4\n",
      "<class 'str'>\n"
     ]
    }
   ],
   "source": [
    "p = str(input('Digite um valor:'))\n",
    "print(p)\n",
    "print(type(p))"
   ]
  },
  {
   "cell_type": "code",
   "execution_count": 6,
   "metadata": {},
   "outputs": [
    {
     "name": "stdout",
     "output_type": "stream",
     "text": [
      "False\n",
      "<class 'bool'>\n"
     ]
    }
   ],
   "source": [
    "a = bool(input('Digite um valor:'))\n",
    "print(a)\n",
    "print(type(a))"
   ]
  },
  {
   "cell_type": "code",
   "execution_count": 8,
   "metadata": {},
   "outputs": [
    {
     "name": "stdout",
     "output_type": "stream",
     "text": [
      "False\n"
     ]
    }
   ],
   "source": [
    "f = input('Digite algo: ')\n",
    "print(f.isnumeric())\n"
   ]
  },
  {
   "cell_type": "code",
   "execution_count": 12,
   "metadata": {},
   "outputs": [
    {
     "name": "stdout",
     "output_type": "stream",
     "text": [
      "False\n"
     ]
    }
   ],
   "source": [
    "r = input('Digite algo:')\n",
    "print(r.isalpha())"
   ]
  },
  {
   "cell_type": "code",
   "execution_count": 17,
   "metadata": {},
   "outputs": [
    {
     "name": "stdout",
     "output_type": "stream",
     "text": [
      "True\n"
     ]
    }
   ],
   "source": [
    "t = input('Digite algo:')\n",
    "print(t.isalnum())"
   ]
  },
  {
   "cell_type": "code",
   "execution_count": 20,
   "metadata": {},
   "outputs": [
    {
     "name": "stdout",
     "output_type": "stream",
     "text": [
      "False\n"
     ]
    }
   ],
   "source": [
    "k = input('Digite algo:')\n",
    "print(k.isupper())"
   ]
  },
  {
   "cell_type": "code",
   "execution_count": 27,
   "metadata": {},
   "outputs": [
    {
     "name": "stdout",
     "output_type": "stream",
     "text": [
      "Este sera mostrado: 64\n"
     ]
    }
   ],
   "source": [
    "6**2\n",
    "print('Este sera mostrado:', pow(4,3))"
   ]
  },
  {
   "cell_type": "code",
   "execution_count": 2,
   "metadata": {},
   "outputs": [
    {
     "name": "stdout",
     "output_type": "stream",
     "text": [
      "====================\n"
     ]
    }
   ],
   "source": [
    "print('='*20)"
   ]
  },
  {
   "cell_type": "code",
   "execution_count": 6,
   "metadata": {},
   "outputs": [
    {
     "name": "stdout",
     "output_type": "stream",
     "text": [
      "A raiz de 29 é igual a: 5\n"
     ]
    }
   ],
   "source": [
    "import math\n",
    "num = int(input('Digite um numero'))\n",
    "raiz = math.sqrt(num)\n",
    "print('A raiz de {} é igual a: {}'.format(num, math.floor(raiz)))"
   ]
  },
  {
   "cell_type": "code",
   "execution_count": 8,
   "metadata": {},
   "outputs": [
    {
     "name": "stdout",
     "output_type": "stream",
     "text": [
      "A raiz de 25 vale: 5.0\n"
     ]
    }
   ],
   "source": [
    "from math import sqrt\n",
    "num = int(input('Digite um numero:'))\n",
    "ráiz = sqrt(num)\n",
    "print('A raiz de {} vale: {}'.format(num, ráiz))"
   ]
  },
  {
   "cell_type": "code",
   "execution_count": null,
   "metadata": {},
   "outputs": [],
   "source": [
    "from math import sqrt, floor\n",
    "n = int(input('Digite um valor:'))\n",
    "Raizz = sqrt\n",
    "print('A raiz de {} vale: {}'.format(num,))"
   ]
  },
  {
   "cell_type": "code",
   "execution_count": 9,
   "metadata": {},
   "outputs": [
    {
     "name": "stdout",
     "output_type": "stream",
     "text": [
      "0.8824581495866651\n"
     ]
    }
   ],
   "source": [
    "import random\n",
    "num = random.random()\n",
    "print(num) "
   ]
  },
  {
   "cell_type": "code",
   "execution_count": 11,
   "metadata": {},
   "outputs": [
    {
     "name": "stdout",
     "output_type": "stream",
     "text": [
      "9\n"
     ]
    }
   ],
   "source": [
    "import random\n",
    "num = random.randint(1, 10)\n",
    "print(num)"
   ]
  },
  {
   "cell_type": "code",
   "execution_count": 2,
   "metadata": {},
   "outputs": [
    {
     "name": "stdout",
     "output_type": "stream",
     "text": [
      "3\n"
     ]
    }
   ],
   "source": [
    "# Asignação multiple de variavies\n",
    "a,b = 1 ,2\n",
    "print(a+b)\n",
    "\n"
   ]
  },
  {
   "cell_type": "code",
   "execution_count": 13,
   "metadata": {},
   "outputs": [
    {
     "name": "stdout",
     "output_type": "stream",
     "text": [
      "True\n",
      "False\n"
     ]
    }
   ],
   "source": [
    "type(8)\n",
    "type(10.5)\n",
    "type(True)\n",
    "type('hola')\n",
    "type(3+4j)\n",
    "nada = None\n",
    "algo = 'esta lleno'\n",
    "print(nada is None)\n",
    "print(algo is None)\n",
    "\n",
    "\n"
   ]
  },
  {
   "cell_type": "code",
   "execution_count": 14,
   "metadata": {},
   "outputs": [
    {
     "name": "stdout",
     "output_type": "stream",
     "text": [
      "3.141592653589793\n"
     ]
    }
   ],
   "source": [
    "import math\n",
    "\n",
    "print(math.pi)"
   ]
  },
  {
   "cell_type": "code",
   "execution_count": 72,
   "metadata": {},
   "outputs": [
    {
     "data": {
      "text/plain": [
       "3"
      ]
     },
     "execution_count": 72,
     "metadata": {},
     "output_type": "execute_result"
    }
   ],
   "source": [
    "import random\n",
    "random.random() # numero entre 0 e 1\n",
    "int((random.random()*10)%6+1) # numeros entre 1 e 10\n",
    "random.choice([1,2,3,4,5,6,7,8,9,10]) # numeros entre os numeros da lista\n",
    "random.choice(['Rojo','Verde','Azul','Negro','Naranja','Blanco','Amarillo','Violeta']) # colores de la lista\n",
    "random.choices([2,4,6,8,10,12,14,16,18,20], k=3) # numeros da lista en numero de tres\n"
   ]
  },
  {
   "cell_type": "code",
   "execution_count": null,
   "metadata": {},
   "outputs": [],
   "source": [
    "import math\n",
    "c1=2\n",
    "c2=3\n",
    "h = math.sqrt(c1**2+c2**2)\n",
    "print(h)"
   ]
  },
  {
   "cell_type": "markdown",
   "metadata": {},
   "source": [
    "Condicionales en Pyhon"
   ]
  },
  {
   "cell_type": "code",
   "execution_count": 2,
   "metadata": {},
   "outputs": [
    {
     "name": "stdout",
     "output_type": "stream",
     "text": [
      "El numero -2 Es negativo\n"
     ]
    }
   ],
   "source": [
    "x = -2\n",
    "if x >= 0:\n",
    "    print('El numero',x,'es positivo')\n",
    "else:\n",
    "    print('El numero',x,'Es negativo')"
   ]
  },
  {
   "cell_type": "code",
   "execution_count": null,
   "metadata": {},
   "outputs": [],
   "source": [
    "x=1+4*3+8/2*4+5**2\n",
    "if x % 2 == 0:\n",
    "    x+=1\n",
    "    print('Sumandole 1 a x. El nuevo valor de x es',x)\n",
    "else:\n",
    "    x+=2\n",
    "    print('Sumandodle 2 a x. El nuevo valor de x es',x)"
   ]
  },
  {
   "cell_type": "markdown",
   "metadata": {},
   "source": [
    "Serie de Fibonacci"
   ]
  },
  {
   "cell_type": "code",
   "execution_count": 7,
   "metadata": {},
   "outputs": [
    {
     "name": "stdout",
     "output_type": "stream",
     "text": [
      "1  1  2  3  5  8  "
     ]
    }
   ],
   "source": [
    "# la suma de dos numeros define el siguiente\n",
    "a, b = 0, 1\n",
    "while b < 10:\n",
    "    print(b, end='  ')\n",
    "    a, b = b, a+b"
   ]
  },
  {
   "cell_type": "markdown",
   "metadata": {},
   "source": [
    "  Escribe la serie de Fibonacci hastas n."
   ]
  },
  {
   "cell_type": "code",
   "execution_count": 1,
   "metadata": {},
   "outputs": [],
   "source": [
    "def fib(n):\n",
    "    a, b = 0, 1\n",
    "    while b < n:\n",
    "        print(a, end='  ')\n",
    "        a, b = b, a+b \n",
    "    print()"
   ]
  },
  {
   "cell_type": "code",
   "execution_count": 2,
   "metadata": {},
   "outputs": [
    {
     "name": "stdout",
     "output_type": "stream",
     "text": [
      "0  1  1  2  3  5  \n"
     ]
    }
   ],
   "source": [
    "fib(10)"
   ]
  },
  {
   "cell_type": "code",
   "execution_count": 6,
   "metadata": {},
   "outputs": [
    {
     "name": "stdout",
     "output_type": "stream",
     "text": [
      "55\n"
     ]
    }
   ],
   "source": [
    "\"\"\" Serie de Fibonacci Python progresivo usando laço 'while'. \"\"\"\n",
    "n = int(input('Que termo deseha encontrar: '))\n",
    "ultimo = 1\n",
    "penultimo = 1\n",
    "if (n==1) or (n==2):\n",
    "    print('1')\n",
    "else:\n",
    "    count = 3\n",
    "    while count <= n:\n",
    "        termo = ultimo + penultimo\n",
    "        penultimo = ultimo\n",
    "        ultimo = termo\n",
    "        count += 1\n",
    "    print(termo)"
   ]
  },
  {
   "cell_type": "code",
   "execution_count": 2,
   "metadata": {},
   "outputs": [
    {
     "name": "stdout",
     "output_type": "stream",
     "text": [
      "55\n"
     ]
    }
   ],
   "source": [
    "\"\"\" Sucession de Fibonacci Python pregresivo usando Laço for\"\"\"\n",
    "n = int(input('Que termo deseha encontrar: '))\n",
    "ultimo = 1\n",
    "penultimo = 1\n",
    "if (n==1) or (n==2):\n",
    "    print('1')\n",
    "else:\n",
    "    count = 3\n",
    "    for count in range (2, n):\n",
    "        termo = ultimo + penultimo\n",
    "        penultimo = ultimo\n",
    "        ultimo = termo\n",
    "        count += 1\n",
    "    print(termo)"
   ]
  },
  {
   "cell_type": "code",
   "execution_count": 3,
   "metadata": {},
   "outputs": [
    {
     "name": "stdout",
     "output_type": "stream",
     "text": [
      "0 1 1 2 3 5 "
     ]
    }
   ],
   "source": [
    "'''Sucesion de Fibonacci en 5 linhas'''\n",
    "num_uno, num_dos = 0, 1\n",
    "while num_dos <= 10:\n",
    "    print(num_uno, num_dos, end=' ')\n",
    "    num_uno = num_uno + num_dos\n",
    "    num_dos = num_uno + num_dos"
   ]
  },
  {
   "cell_type": "markdown",
   "metadata": {},
   "source": [
    "Argumentos con valores por omisión"
   ]
  },
  {
   "cell_type": "code",
   "execution_count": 28,
   "metadata": {},
   "outputs": [],
   "source": [
    "def pedir_confirmacion(prompt, reintentos=4, recordatorios='Por favor, intente nuevamente!'):\n",
    "    while True:\n",
    "        ok = input(prompt)\n",
    "        if ok in ('s', 'S', 'si', 'Si','SI'):\n",
    "            return True\n",
    "        if ok in ('n', 'no', 'No', 'NO'):\n",
    "            return False\n",
    "        reintentos-=1\n",
    "        if reintentos < 0:\n",
    "            raise ValueError('respuesta de usuario inválida')\n",
    "        print(recordatorios)"
   ]
  },
  {
   "cell_type": "code",
   "execution_count": 8,
   "metadata": {},
   "outputs": [],
   "source": [
    "'''Expresiones lambda'''\n",
    "def hacer_incrementador(n):\n",
    "    return lambda x: x+n\n"
   ]
  },
  {
   "cell_type": "code",
   "execution_count": 66,
   "metadata": {},
   "outputs": [],
   "source": [
    "'''Los valores por omisión son evaluados en el momento de la definición de la función, en el ámbito de la definición, entonces'''\n",
    "i=5\n",
    "def f(arg=i):\n",
    "    print(arg)\n",
    "i = 6"
   ]
  },
  {
   "cell_type": "code",
   "execution_count": null,
   "metadata": {},
   "outputs": [],
   "source": [
    "f()"
   ]
  },
  {
   "cell_type": "code",
   "execution_count": 63,
   "metadata": {},
   "outputs": [],
   "source": [
    "'''Advertencia importante: El valor por omisión es evaluado solo una vez.'''\n",
    "def f(a, L=[]):\n",
    "    L.append(a)\n",
    "    return L\n"
   ]
  },
  {
   "cell_type": "code",
   "execution_count": null,
   "metadata": {},
   "outputs": [],
   "source": [
    "print(f(1))\n",
    "print(f(2))\n",
    "print(f(3))"
   ]
  },
  {
   "cell_type": "code",
   "execution_count": 56,
   "metadata": {},
   "outputs": [],
   "source": [
    "def suma(a=1, b=2):\n",
    "    return a+b"
   ]
  },
  {
   "cell_type": "code",
   "execution_count": null,
   "metadata": {},
   "outputs": [],
   "source": [
    "suma(4,5)"
   ]
  },
  {
   "cell_type": "markdown",
   "metadata": {},
   "source": [
    "Palabras claves como argumentos"
   ]
  },
  {
   "cell_type": "code",
   "execution_count": 29,
   "metadata": {},
   "outputs": [],
   "source": [
    "def loro(tension, estado='muerto', accion='explotar', tipo='Azul Nordico'):\n",
    "    print(\"-- Este loro no va a\", accion, end=' ')\n",
    "    print(\"Si le aplicas\", tension, \"voltios.\")\n",
    "    print(\"-- Gran plumaje tiene el\", tipo)\n",
    "    print(\"-- Esta\", estado, \"!\")"
   ]
  },
  {
   "cell_type": "code",
   "execution_count": null,
   "metadata": {},
   "outputs": [],
   "source": [
    "loro(tension=5.0, 'muerto')"
   ]
  },
  {
   "cell_type": "code",
   "execution_count": 101,
   "metadata": {},
   "outputs": [],
   "source": [
    "def ventadequeso(tipo, *argumentos, **palabrasextras):\n",
    "    print('-- ¿Tiene', tipo, '?')\n",
    "    print('-- Lo siento, nos quedamos sin', tipo)\n",
    "    for arg in argumentos:\n",
    "        print(arg)\n",
    "    print('=' * 42)\n",
    "    for c in palabrasextras:\n",
    "        print(c , ':', palabrasextras[c])\n"
   ]
  },
  {
   "cell_type": "code",
   "execution_count": null,
   "metadata": {},
   "outputs": [],
   "source": [
    "ventadequeso('Linburguer', 'Es muy liquido, sr.', 'Realmente es muy liquido sr.', cliente='Juan garau', vendedor='Miguel Paez', puesto='Venta de queso argentino')"
   ]
  },
  {
   "cell_type": "code",
   "execution_count": 103,
   "metadata": {},
   "outputs": [],
   "source": [
    "'''Listas de argumentos arbitrarios'''\n",
    "def muchos_items(archivo, separador, *args):\n",
    "    archivo.write(separador.join(args))\n"
   ]
  },
  {
   "cell_type": "markdown",
   "metadata": {},
   "source": [
    "Desempaquetando una lista de argumentos"
   ]
  },
  {
   "cell_type": "code",
   "execution_count": null,
   "metadata": {},
   "outputs": [],
   "source": [
    "# llamada normal con arguentos separados\n",
    "list(range(3,6)) "
   ]
  },
  {
   "cell_type": "code",
   "execution_count": null,
   "metadata": {},
   "outputs": [],
   "source": [
    "# Llamada con argumentos desempaquetados de la lista\n",
    "args = [3, 6]\n",
    "list(range(*args)) "
   ]
  },
  {
   "cell_type": "code",
   "execution_count": 25,
   "metadata": {},
   "outputs": [],
   "source": [
    "# Del mismo modo, los diccionarios pueden entregar argumentos nombrados con el operador **\n",
    "def loro(tension, estado='rostizado', accion='explotar'):\n",
    "    print('-- Este loro no va a', accion, end=' ')\n",
    "    print('Si le aplicas', tension, 'voltios.', end=' ')\n",
    "    print('esta', estado, '!')\n",
    "\n",
    "d = {'tension': 'cinco mil', 'estado': 'demacrado', 'accion': 'VOLAR'}"
   ]
  },
  {
   "cell_type": "code",
   "execution_count": null,
   "metadata": {},
   "outputs": [],
   "source": [
    "# Llamando la funcio cingresando operador (**)\n",
    "loro(**d)"
   ]
  },
  {
   "cell_type": "markdown",
   "metadata": {},
   "source": [
    "Forma de usar funcion print"
   ]
  },
  {
   "cell_type": "code",
   "execution_count": null,
   "metadata": {},
   "outputs": [],
   "source": [
    "print(1,2,3,4,5, sep=', ')\n",
    "print(1,2,3,4,5, sep='-')\n",
    "print(1,2,3,4,5, sep='-', end=' ')"
   ]
  },
  {
   "cell_type": "markdown",
   "metadata": {},
   "source": [
    "Funcion range: Star, stop, step"
   ]
  },
  {
   "cell_type": "code",
   "execution_count": null,
   "metadata": {},
   "outputs": [],
   "source": [
    "for x in range(10):\n",
    "    print(x, end=', ')"
   ]
  },
  {
   "cell_type": "markdown",
   "metadata": {},
   "source": [
    "Herramientas para el control de flujo"
   ]
  },
  {
   "cell_type": "code",
   "execution_count": null,
   "metadata": {},
   "outputs": [],
   "source": [
    "# Sentencia 'if'\n",
    "x=int(input('Ingrese un numero entero por favor: '))\n",
    "if x < 0:\n",
    "    x = 0\n",
    "    print('Negativo cambia a cero')\n",
    "elif x == 0:\n",
    "    print('cero')\n",
    "elif x == 1:\n",
    "    print('simple')\n",
    "else:\n",
    "    print('mas')\n"
   ]
  },
  {
   "cell_type": "code",
   "execution_count": null,
   "metadata": {},
   "outputs": [],
   "source": [
    "# Sentencia 'for'\n",
    "palabras = ['ventana', 'gato', 'defenestrado']\n",
    "for p in palabras:\n",
    "    print(p, 'Tiene', len(p),'letras')"
   ]
  },
  {
   "cell_type": "code",
   "execution_count": null,
   "metadata": {},
   "outputs": [],
   "source": [
    "# Sentencia 'for'. Modificando la secuencia...\n",
    "for p in palabras[:]:\n",
    "    if len(p) > 6:\n",
    "        palabras.insert(0, p)\n",
    "\n",
    "palabras"
   ]
  },
  {
   "cell_type": "markdown",
   "metadata": {},
   "source": [
    "Los ciclos 'for' sirven para repetir una cantidad de sentencias una o varias veces determinada"
   ]
  },
  {
   "cell_type": "code",
   "execution_count": null,
   "metadata": {},
   "outputs": [],
   "source": [
    "# Itera sobre los items de cualquuer secuencia. \n",
    "for j in range(10):\n",
    "    print(j, end=', ')"
   ]
  },
  {
   "cell_type": "code",
   "execution_count": null,
   "metadata": {},
   "outputs": [],
   "source": [
    "for i in 'Hola mundo':\n",
    "    print(i, end='')"
   ]
  },
  {
   "cell_type": "code",
   "execution_count": 37,
   "metadata": {},
   "outputs": [],
   "source": [
    "def contador(n):\n",
    "    c = 0\n",
    "    for i in range(n):\n",
    "        c += 1\n",
    "        return c"
   ]
  },
  {
   "cell_type": "code",
   "execution_count": null,
   "metadata": {},
   "outputs": [],
   "source": [
    "contador(10)"
   ]
  },
  {
   "cell_type": "code",
   "execution_count": null,
   "metadata": {},
   "outputs": [],
   "source": [
    "def sumatoria(numeros):\n",
    "    acum = 0\n",
    "    for n in numeros:\n",
    "        acum += n\n",
    "    return acum\n",
    "\n",
    "sumatoria([1,2,3,4,5])"
   ]
  },
  {
   "cell_type": "code",
   "execution_count": null,
   "metadata": {},
   "outputs": [],
   "source": [
    "def tabla_multiplicar(numero):\n",
    "    for indice in [1, 2, 3, 4, 5, 6, 7, 8, 9, 10]:\n",
    "        # print(f'{numero} * {indice} = {numero * indice}') coursera\n",
    "        print('{} x {:2} = {:2}'.format(numero, indice, (numero*indice))) # gauanabara\n",
    "\n",
    "tabla_multiplicar(5)"
   ]
  },
  {
   "cell_type": "markdown",
   "metadata": {},
   "source": [
    "Herramientas para el control de flujo"
   ]
  },
  {
   "cell_type": "code",
   "execution_count": null,
   "metadata": {},
   "outputs": [],
   "source": [
    "# funcion 'range' I\n",
    "for i in range(5):\n",
    "    print(i, end=', ')"
   ]
  },
  {
   "cell_type": "code",
   "execution_count": null,
   "metadata": {},
   "outputs": [],
   "source": [
    "# funcion 'range' II\n",
    "for g in range(5, 10): # el valor final nunca es dado en la secuencia \n",
    "    print(g, end=' ')"
   ]
  },
  {
   "cell_type": "code",
   "execution_count": null,
   "metadata": {},
   "outputs": [],
   "source": [
    "# funcion 'range' III\n",
    "for g in range(0, 10, 3): \n",
    "    print(g, end=', ')"
   ]
  },
  {
   "cell_type": "code",
   "execution_count": null,
   "metadata": {},
   "outputs": [],
   "source": [
    "# funcion range IV\n",
    "for g in range(-10, -100, -30): # valores negativos step\n",
    "    print(g, end=' ')"
   ]
  },
  {
   "cell_type": "code",
   "execution_count": null,
   "metadata": {},
   "outputs": [],
   "source": [
    "# Para iterar sobre los índices de una secuencia, podés combinar range() y len()\n",
    "a = ['Mary', 'tiene', 'un', 'corderito']\n",
    "for i in range (len(a)):\n",
    "    print(i, a[i])\n",
    "    # es mejor usar 'emunerate'"
   ]
  },
  {
   "cell_type": "code",
   "execution_count": null,
   "metadata": {},
   "outputs": [],
   "source": [
    "print(range(10))"
   ]
  },
  {
   "cell_type": "code",
   "execution_count": null,
   "metadata": {},
   "outputs": [],
   "source": [
    "list(range(5))"
   ]
  },
  {
   "cell_type": "code",
   "execution_count": null,
   "metadata": {},
   "outputs": [],
   "source": [
    "'''Somas los numeros pares de 2 hasta el 50 inclusiive'''\n",
    "i = int(input(print('Ingrese numero inicial:')))\n",
    "f = int(input(print('Digite o numero final:')))\n",
    "suma = 0\n",
    "while i <= f:\n",
    "    if i % 2 == 0:\n",
    "        print(i, end=' ,')\n",
    "        suma = suma + i\n",
    "    i += 1\n",
    "print('\\nEl resultado de la suma es: ', suma)"
   ]
  },
  {
   "cell_type": "code",
   "execution_count": null,
   "metadata": {},
   "outputs": [],
   "source": [
    "'''Dado el codigo'''\n",
    "s = 0\n",
    "for n in range(2, 100, 2):\n",
    "    s += n\n",
    "    print(s)"
   ]
  },
  {
   "cell_type": "code",
   "execution_count": null,
   "metadata": {},
   "outputs": [],
   "source": [
    "'''Dado el codigo'''\n",
    "n=10\n",
    "while n <= 10:\n",
    "    print('prueba')"
   ]
  },
  {
   "cell_type": "markdown",
   "metadata": {},
   "source": [
    "Las sentencias break, else y continue en lazos"
   ]
  },
  {
   "cell_type": "code",
   "execution_count": null,
   "metadata": {},
   "outputs": [],
   "source": [
    "for n in range(2, 10):\n",
    "    for x in range(2, n):\n",
    "        if n % x == 0:\n",
    "            print(n, 'es igual a', x, '*', n/x)\n",
    "            break\n",
    "    else:\n",
    "        # sigue el bucle sin encontrar un factor\n",
    "        print(n, 'es un numero primo')\n",
    "    "
   ]
  },
  {
   "cell_type": "code",
   "execution_count": null,
   "metadata": {},
   "outputs": [],
   "source": [
    "for num in range(2, 10):\n",
    "    if num % 2 == 0:\n",
    "        print('Encontre un numero', num, 'y es par')\n",
    "        continue\n",
    "    print('Encontre un numero', num, 'y es impar')"
   ]
  },
  {
   "cell_type": "code",
   "execution_count": 20,
   "metadata": {},
   "outputs": [
    {
     "data": {
      "text/plain": [
       "('t', 'e', 's', 't', 'e')"
      ]
     },
     "execution_count": 20,
     "metadata": {},
     "output_type": "execute_result"
    }
   ],
   "source": [
    "nueva_tupla = tuple('teste')\n",
    "nueva_tupla"
   ]
  },
  {
   "cell_type": "code",
   "execution_count": 14,
   "metadata": {},
   "outputs": [
    {
     "data": {
      "text/plain": [
       "(10,)"
      ]
     },
     "execution_count": 14,
     "metadata": {},
     "output_type": "execute_result"
    }
   ],
   "source": [
    "tupla_elemento = 10,\n",
    "tupla_elemento"
   ]
  },
  {
   "cell_type": "markdown",
   "metadata": {},
   "source": [
    "Podemos saber cuantos elementos iguales existe en un tupla"
   ]
  },
  {
   "cell_type": "code",
   "execution_count": 23,
   "metadata": {},
   "outputs": [
    {
     "name": "stdout",
     "output_type": "stream",
     "text": [
      "2\n"
     ]
    }
   ],
   "source": [
    "tupla_nomes = ('Maria', 'Paulo', 'Maria', 'Joao', 'Sergio')\n",
    "print(tupla_nomes.count('Maria'))\n"
   ]
  },
  {
   "cell_type": "markdown",
   "metadata": {},
   "source": [
    "Como exibir el indice del elemento de una tupla"
   ]
  },
  {
   "cell_type": "code",
   "execution_count": 26,
   "metadata": {},
   "outputs": [
    {
     "name": "stdout",
     "output_type": "stream",
     "text": [
      "5\n"
     ]
    }
   ],
   "source": [
    "tupla_nombres = ('Maria', 'Joao', 'Paulo', 'Pedro', 'Maria', 'Sergio')\n",
    "indice_tupla = tupla_nombres.index('Sergio')\n",
    "print(indice_tupla)"
   ]
  },
  {
   "cell_type": "markdown",
   "metadata": {},
   "source": [
    "Uso del asterisco en antes de una variable"
   ]
  },
  {
   "cell_type": "code",
   "execution_count": 35,
   "metadata": {},
   "outputs": [
    {
     "name": "stdout",
     "output_type": "stream",
     "text": [
      "('juan',)\n",
      "Hola, juan\n",
      "('Alexis', 'Magaly', 'Gissela')\n",
      "Hola, Alexis\n",
      "Hola, Magaly\n",
      "Hola, Gissela\n"
     ]
    }
   ],
   "source": [
    "def saludar (*nombres):             # anteponemos un asterisco al nombre del parámetro, para indicar que la funcio acepta cualquier numero de parametros\n",
    "    print(nombres)                  # vemos como 'nombres' es una tupla con todos los parámetros recibidos (se han empaquetado)\n",
    "    for nombre in nombres:          # recorremos la tupla\n",
    "        print(f'Hola, {nombre}')    # y saludamos\n",
    "\n",
    "saludar('juan')\n",
    "saludar('Alexis', 'Magaly', 'Gissela')"
   ]
  },
  {
   "cell_type": "code",
   "execution_count": 15,
   "metadata": {},
   "outputs": [],
   "source": [
    "def es_primo(numero):\n",
    "    resultado = True\n",
    "    for divisor in range(2, numero):\n",
    "        if (numero % divisor) == 0:\n",
    "            resultado = False\n",
    "            break\n",
    "    return resultado"
   ]
  },
  {
   "cell_type": "code",
   "execution_count": 16,
   "metadata": {},
   "outputs": [
    {
     "data": {
      "text/plain": [
       "True"
      ]
     },
     "execution_count": 16,
     "metadata": {},
     "output_type": "execute_result"
    }
   ],
   "source": [
    "es_primo(13)\n"
   ]
  },
  {
   "cell_type": "markdown",
   "metadata": {},
   "source": [
    "usando Break"
   ]
  },
  {
   "cell_type": "code",
   "execution_count": 29,
   "metadata": {},
   "outputs": [
    {
     "name": "stdout",
     "output_type": "stream",
     "text": [
      "21\n"
     ]
    }
   ],
   "source": [
    "s = 0\n",
    "for n in range(1, 10):\n",
    "    if n % 7 == 0: # cuando el iterador llega a este punto (7 % 0 == 0) acaba (break)\n",
    "        break\n",
    "    s += n\n",
    "print(s)"
   ]
  },
  {
   "cell_type": "markdown",
   "metadata": {},
   "source": [
    "Usando Continue"
   ]
  },
  {
   "cell_type": "code",
   "execution_count": 31,
   "metadata": {},
   "outputs": [
    {
     "name": "stdout",
     "output_type": "stream",
     "text": [
      "25\n"
     ]
    }
   ],
   "source": [
    "s = 0\n",
    "for n in range(1, 10):\n",
    "    if n % 2 == 0:\n",
    "        continue\n",
    "    s += n\n",
    "print(s)"
   ]
  },
  {
   "cell_type": "code",
   "execution_count": 32,
   "metadata": {},
   "outputs": [
    {
     "name": "stdout",
     "output_type": "stream",
     "text": [
      "55\n"
     ]
    }
   ],
   "source": [
    "s = 0\n",
    "for n in range(1, 10):\n",
    "    if n % 11 == 0:\n",
    "        break\n",
    "    s += n\n",
    "else:\n",
    "    s += 10\n",
    "\n",
    "print(s)"
   ]
  },
  {
   "cell_type": "code",
   "execution_count": 33,
   "metadata": {},
   "outputs": [
    {
     "name": "stdout",
     "output_type": "stream",
     "text": [
      "45\n"
     ]
    }
   ],
   "source": [
    "s = 0\n",
    "for n in range(1, 10):\n",
    "    if n % 2 == 0:\n",
    "        pass\n",
    "    s += n\n",
    "\n",
    "print(s)"
   ]
  },
  {
   "cell_type": "code",
   "execution_count": 35,
   "metadata": {},
   "outputs": [
    {
     "name": "stdout",
     "output_type": "stream",
     "text": [
      "25\n"
     ]
    }
   ],
   "source": [
    "s = 0\n",
    "for n in range(1, 10):\n",
    "    if n % 2 != 0:\n",
    "        continue\n",
    "    s += n\n",
    "else:\n",
    "    s += 5\n",
    "\n",
    "print(s)"
   ]
  },
  {
   "cell_type": "code",
   "execution_count": 40,
   "metadata": {},
   "outputs": [
    {
     "name": "stdout",
     "output_type": "stream",
     "text": [
      "1\n"
     ]
    }
   ],
   "source": [
    "a = 5\n",
    "b = 2\n",
    "division = a % b\n",
    "print(division)"
   ]
  },
  {
   "cell_type": "markdown",
   "metadata": {},
   "source": [
    "Iteradores"
   ]
  },
  {
   "cell_type": "code",
   "execution_count": null,
   "metadata": {},
   "outputs": [],
   "source": [
    "lista = [1,2,3,4,5]\n",
    "for elemento in lista:\n",
    "    print(elemento)"
   ]
  },
  {
   "cell_type": "code",
   "execution_count": 10,
   "metadata": {},
   "outputs": [],
   "source": [
    "class SumaDos:\n",
    "    def __init__(self, datos):\n",
    "        self.datos = datos\n",
    "        self.indice = 0\n",
    "    \n",
    "    def __iter__(self):\n",
    "        return self\n",
    "\n",
    "    def __next__(self):\n",
    "        if self.indice == len(self.datos):\n",
    "            raise StopIteration()\n",
    "        elemento = self.datos[self.indice]+2\n",
    "        self.indice += 1\n",
    "        return elemento"
   ]
  },
  {
   "cell_type": "code",
   "execution_count": 11,
   "metadata": {},
   "outputs": [
    {
     "name": "stdout",
     "output_type": "stream",
     "text": [
      "3\n",
      "4\n",
      "5\n",
      "6\n",
      "7\n"
     ]
    }
   ],
   "source": [
    "for elemento in list(SumaDos([1,2,3,4,5])):\n",
    "    print(elemento)"
   ]
  },
  {
   "cell_type": "code",
   "execution_count": 4,
   "metadata": {},
   "outputs": [
    {
     "name": "stdout",
     "output_type": "stream",
     "text": [
      "Hola, mi nombre es Alexis\n"
     ]
    }
   ],
   "source": [
    "class Person:\n",
    "    def __init__(self, nome):\n",
    "        self.nome = nome\n",
    "\n",
    "    def saludo(self):\n",
    "        print('Hola, mi nombre es', self.nome)\n",
    "\n",
    "p = Person('Alexis')\n",
    "p.saludo()"
   ]
  },
  {
   "cell_type": "code",
   "execution_count": null,
   "metadata": {},
   "outputs": [],
   "source": [
    "class teste:\n",
    "    def __init__(self):\n",
    "        print('Endereço do \"self\" = ', id(self))\n",
    "# Vamos instanciar um objeto chamado 'obj'.\n",
    "# E verificar o endereço do objeto.\n",
    "obj = teste()\n",
    "print('Endereço do objeto da Clase \"teste\" =', id(obj))\n"
   ]
  },
  {
   "cell_type": "code",
   "execution_count": null,
   "metadata": {},
   "outputs": [],
   "source": [
    "import os\n",
    "print(os.environ)"
   ]
  },
  {
   "cell_type": "code",
   "execution_count": null,
   "metadata": {},
   "outputs": [],
   "source": [
    "Manipulando strings com Strip, Upper, Lower, Len e Find"
   ]
  },
  {
   "cell_type": "code",
   "execution_count": null,
   "metadata": {},
   "outputs": [],
   "source": [
    "nome = str(input('Digite seu nome: ')).strip()\n",
    "print(nome)\n",
    "print(len(nome))"
   ]
  },
  {
   "cell_type": "code",
   "execution_count": 3,
   "metadata": {},
   "outputs": [
    {
     "name": "stdout",
     "output_type": "stream",
     "text": [
      "          ALEXIS CERVANTES\n",
      "Seu nome em minusculo e:           alexis cervantes\n",
      "          ALEXIS CERVANTES\n"
     ]
    }
   ],
   "source": [
    "nome = str(input('Digite seu nome: ')).upper()\n",
    "print(nome)\n",
    "print(f'Seu nome em minusculo e: {nome.lower()}')\n",
    "print(nome)"
   ]
  }
 ],
 "metadata": {
  "kernelspec": {
   "display_name": "Python 3.10.5 64-bit",
   "language": "python",
   "name": "python3"
  },
  "language_info": {
   "codemirror_mode": {
    "name": "ipython",
    "version": 3
   },
   "file_extension": ".py",
   "mimetype": "text/x-python",
   "name": "python",
   "nbconvert_exporter": "python",
   "pygments_lexer": "ipython3",
   "version": "3.10.5"
  },
  "orig_nbformat": 4,
  "vscode": {
   "interpreter": {
    "hash": "43020d40ed92f90b08f743a6bd722d6e942804ac8c9d6e8110c37661db1aa2be"
   }
  }
 },
 "nbformat": 4,
 "nbformat_minor": 2
}
