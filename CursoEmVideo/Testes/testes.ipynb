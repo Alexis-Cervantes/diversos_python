{
 "cells": [
  {
   "cell_type": "code",
   "execution_count": 2,
   "metadata": {},
   "outputs": [
    {
     "name": "stdout",
     "output_type": "stream",
     "text": [
      "A soma entre:  6 e 8 vale:  14\n"
     ]
    }
   ],
   "source": [
    "num1=int(input('Digite primeiro numero: '))\n",
    "num2=int(input('Digite segundo numero: '))\n",
    "op=num1+num2\n",
    "#print('A soma vale: {}'.format(op))\n",
    "print('A soma entre: ',num1,'e',num2,'vale: ',op)"
   ]
  },
  {
   "cell_type": "code",
   "execution_count": 3,
   "metadata": {},
   "outputs": [
    {
     "name": "stdout",
     "output_type": "stream",
     "text": [
      "4.0\n",
      "<class 'float'>\n"
     ]
    }
   ],
   "source": [
    "n = float(input('Digite um valor'))\n",
    "print(n)\n",
    "print(type(n))"
   ]
  },
  {
   "cell_type": "code",
   "execution_count": 4,
   "metadata": {},
   "outputs": [
    {
     "name": "stdout",
     "output_type": "stream",
     "text": [
      "4\n",
      "<class 'str'>\n"
     ]
    }
   ],
   "source": [
    "p = str(input('Digite um valor:'))\n",
    "print(p)\n",
    "print(type(p))"
   ]
  },
  {
   "cell_type": "code",
   "execution_count": 6,
   "metadata": {},
   "outputs": [
    {
     "name": "stdout",
     "output_type": "stream",
     "text": [
      "False\n",
      "<class 'bool'>\n"
     ]
    }
   ],
   "source": [
    "a = bool(input('Digite um valor:'))\n",
    "print(a)\n",
    "print(type(a))"
   ]
  },
  {
   "cell_type": "code",
   "execution_count": 8,
   "metadata": {},
   "outputs": [
    {
     "name": "stdout",
     "output_type": "stream",
     "text": [
      "False\n"
     ]
    }
   ],
   "source": [
    "f = input('Digite algo: ')\n",
    "print(f.isnumeric())\n"
   ]
  },
  {
   "cell_type": "code",
   "execution_count": 12,
   "metadata": {},
   "outputs": [
    {
     "name": "stdout",
     "output_type": "stream",
     "text": [
      "False\n"
     ]
    }
   ],
   "source": [
    "r = input('Digite algo:')\n",
    "print(r.isalpha())"
   ]
  },
  {
   "cell_type": "code",
   "execution_count": 17,
   "metadata": {},
   "outputs": [
    {
     "name": "stdout",
     "output_type": "stream",
     "text": [
      "True\n"
     ]
    }
   ],
   "source": [
    "t = input('Digite algo:')\n",
    "print(t.isalnum())"
   ]
  },
  {
   "cell_type": "code",
   "execution_count": 20,
   "metadata": {},
   "outputs": [
    {
     "name": "stdout",
     "output_type": "stream",
     "text": [
      "False\n"
     ]
    }
   ],
   "source": [
    "k = input('Digite algo:')\n",
    "print(k.isupper())"
   ]
  },
  {
   "cell_type": "code",
   "execution_count": 27,
   "metadata": {},
   "outputs": [
    {
     "name": "stdout",
     "output_type": "stream",
     "text": [
      "Este sera mostrado: 64\n"
     ]
    }
   ],
   "source": [
    "6**2\n",
    "print('Este sera mostrado:', pow(4,3))"
   ]
  },
  {
   "cell_type": "code",
   "execution_count": 2,
   "metadata": {},
   "outputs": [
    {
     "name": "stdout",
     "output_type": "stream",
     "text": [
      "====================\n"
     ]
    }
   ],
   "source": [
    "print('='*20)"
   ]
  },
  {
   "cell_type": "code",
   "execution_count": 6,
   "metadata": {},
   "outputs": [
    {
     "name": "stdout",
     "output_type": "stream",
     "text": [
      "A raiz de 29 é igual a: 5\n"
     ]
    }
   ],
   "source": [
    "import math\n",
    "num = int(input('Digite um numero'))\n",
    "raiz = math.sqrt(num)\n",
    "print('A raiz de {} é igual a: {}'.format(num, math.floor(raiz)))"
   ]
  },
  {
   "cell_type": "code",
   "execution_count": 8,
   "metadata": {},
   "outputs": [
    {
     "name": "stdout",
     "output_type": "stream",
     "text": [
      "A raiz de 25 vale: 5.0\n"
     ]
    }
   ],
   "source": [
    "from math import sqrt\n",
    "num = int(input('Digite um numero:'))\n",
    "ráiz = sqrt(num)\n",
    "print('A raiz de {} vale: {}'.format(num, ráiz))"
   ]
  },
  {
   "cell_type": "code",
   "execution_count": null,
   "metadata": {},
   "outputs": [],
   "source": [
    "from math import sqrt, floor\n",
    "n = int(input('Digite um valor:'))\n",
    "Raizz = sqrt\n",
    "print('A raiz de {} vale: {}'.format(num,))"
   ]
  },
  {
   "cell_type": "code",
   "execution_count": 9,
   "metadata": {},
   "outputs": [
    {
     "name": "stdout",
     "output_type": "stream",
     "text": [
      "0.8824581495866651\n"
     ]
    }
   ],
   "source": [
    "import random\n",
    "num = random.random()\n",
    "print(num) "
   ]
  },
  {
   "cell_type": "code",
   "execution_count": 11,
   "metadata": {},
   "outputs": [
    {
     "name": "stdout",
     "output_type": "stream",
     "text": [
      "9\n"
     ]
    }
   ],
   "source": [
    "import random\n",
    "num = random.randint(1, 10)\n",
    "print(num)"
   ]
  },
  {
   "cell_type": "code",
   "execution_count": 2,
   "metadata": {},
   "outputs": [
    {
     "name": "stdout",
     "output_type": "stream",
     "text": [
      "3\n"
     ]
    }
   ],
   "source": [
    "# Asignação multiple de variavies\n",
    "a,b = 1 ,2\n",
    "print(a+b)\n",
    "\n"
   ]
  },
  {
   "cell_type": "code",
   "execution_count": 13,
   "metadata": {},
   "outputs": [
    {
     "name": "stdout",
     "output_type": "stream",
     "text": [
      "True\n",
      "False\n"
     ]
    }
   ],
   "source": [
    "type(8)\n",
    "type(10.5)\n",
    "type(True)\n",
    "type('hola')\n",
    "type(3+4j)\n",
    "nada = None\n",
    "algo = 'esta lleno'\n",
    "print(nada is None)\n",
    "print(algo is None)\n",
    "\n",
    "\n"
   ]
  },
  {
   "cell_type": "code",
   "execution_count": 14,
   "metadata": {},
   "outputs": [
    {
     "name": "stdout",
     "output_type": "stream",
     "text": [
      "3.141592653589793\n"
     ]
    }
   ],
   "source": [
    "import math\n",
    "\n",
    "print(math.pi)"
   ]
  },
  {
   "cell_type": "code",
   "execution_count": 72,
   "metadata": {},
   "outputs": [
    {
     "data": {
      "text/plain": [
       "3"
      ]
     },
     "execution_count": 72,
     "metadata": {},
     "output_type": "execute_result"
    }
   ],
   "source": [
    "import random\n",
    "random.random() # numero entre 0 e 1\n",
    "int((random.random()*10)%6+1) # numeros entre 1 e 10\n",
    "random.choice([1,2,3,4,5,6,7,8,9,10]) # numeros entre os numeros da lista\n",
    "random.choice(['Rojo','Verde','Azul','Negro','Naranja','Blanco','Amarillo','Violeta']) # colores de la lista\n",
    "random.choices([2,4,6,8,10,12,14,16,18,20], k=3) # numeros da lista en numero de tres\n"
   ]
  },
  {
   "cell_type": "code",
   "execution_count": 61,
   "metadata": {},
   "outputs": [
    {
     "name": "stdout",
     "output_type": "stream",
     "text": [
      "3.605551275463989\n"
     ]
    }
   ],
   "source": [
    "import math\n",
    "c1=2\n",
    "c2=3\n",
    "h = math.sqrt(c1**2+c2**2)\n",
    "print(h)"
   ]
  },
  {
   "cell_type": "code",
   "execution_count": 2,
   "metadata": {},
   "outputs": [
    {
     "name": "stdout",
     "output_type": "stream",
     "text": [
      "El numero -2 Es negativo\n"
     ]
    }
   ],
   "source": [
    "# Condicionales en Pyhon\n",
    "x = -2\n",
    "if x >= 0:\n",
    "    print('El numero',x,'es positivo')\n",
    "else:\n",
    "    print('El numero',x,'Es negativo')"
   ]
  },
  {
   "cell_type": "code",
   "execution_count": 2,
   "metadata": {},
   "outputs": [
    {
     "name": "stdout",
     "output_type": "stream",
     "text": [
      "Sumandole 1 a x. El nuevo valor de x es 55.0\n"
     ]
    }
   ],
   "source": [
    "x=1+4*3+8/2*4+5**2\n",
    "if x % 2 == 0:\n",
    "    x+=1\n",
    "    print('Sumandole 1 a x. El nuevo valor de x es',x)\n",
    "else:\n",
    "    x+=2\n",
    "    print('Sumandodle 2 a x. El nuevo valor de x es',x)"
   ]
  },
  {
   "cell_type": "code",
   "execution_count": 4,
   "metadata": {},
   "outputs": [],
   "source": [
    "def fib(n):\n",
    "    \"\"\" Escribe la serie de Fibonacci hastas n. \"\"\"\n",
    "    a, b = 0, 1\n",
    "    while a < n:\n",
    "        print(a, end='  ')\n",
    "        a, b = b, a+b\n",
    "    print()"
   ]
  },
  {
   "cell_type": "code",
   "execution_count": 53,
   "metadata": {},
   "outputs": [
    {
     "name": "stdout",
     "output_type": "stream",
     "text": [
      "9227465\n"
     ]
    }
   ],
   "source": [
    "\"\"\" Serie de Fibonacci Python progresivo usando laço 'while'. \"\"\"\n",
    "n = int(input('Que termo deseha encontrar: '))\n",
    "ultimo = 1\n",
    "penultimo = 1\n",
    "if (n==1) or (n==2):\n",
    "    print('1')\n",
    "else:\n",
    "    count = 3\n",
    "    while count <= n:\n",
    "        termo = ultimo + penultimo\n",
    "        penultimo = ultimo\n",
    "        ultimo = termo\n",
    "        count += 1\n",
    "    print(termo)"
   ]
  },
  {
   "cell_type": "code",
   "execution_count": 52,
   "metadata": {},
   "outputs": [
    {
     "name": "stdout",
     "output_type": "stream",
     "text": [
      "9227465\n"
     ]
    }
   ],
   "source": [
    "\"\"\" Sucession de Fibonacci Python pregresivo usando Laço for\"\"\"\n",
    "n = int(input('Que termo deseha encontrar: '))\n",
    "ultimo = 1\n",
    "penultimo = 1\n",
    "if (n==1) or (n==2):\n",
    "    print('1')\n",
    "else:\n",
    "    count = 3\n",
    "    for count in range (2, n):\n",
    "        termo = ultimo + penultimo\n",
    "        penultimo = ultimo\n",
    "        ultimo = termo\n",
    "        count += 1\n",
    "    print(termo)"
   ]
  },
  {
   "cell_type": "code",
   "execution_count": 51,
   "metadata": {},
   "outputs": [
    {
     "name": "stdout",
     "output_type": "stream",
     "text": [
      "0 1 1 2 3 5 8 13 "
     ]
    }
   ],
   "source": [
    "'''Sucesion de Fibonacci en 5 linhas'''\n",
    "num_uno, num_dos = 0, 1\n",
    "while num_dos <= 20:\n",
    "    print(num_uno, num_dos, end=' ')\n",
    "    num_uno = num_uno + num_dos\n",
    "    num_dos = num_uno + num_dos"
   ]
  },
  {
   "cell_type": "code",
   "execution_count": 3,
   "metadata": {},
   "outputs": [],
   "source": [
    "'''Argumentos con valores por omisión'''\n",
    "def pedir_confirmacion(prompt, reintentos=4, recordatorios='Por favor, intente nuevamente!'):\n",
    "    while True:\n",
    "        ok = input(prompt)\n",
    "        if ok in ('s', 'S', 'si', 'Si','SI'):\n",
    "            return True\n",
    "        if ok in ('n', 'no', 'No', 'NO'):\n",
    "            return False\n",
    "        reintentos-=1\n",
    "        if reintentos < 0:\n",
    "            raise ValueError('respuesta de usuario inválida')\n",
    "        print(recordatorios)"
   ]
  },
  {
   "cell_type": "code",
   "execution_count": 8,
   "metadata": {},
   "outputs": [],
   "source": [
    "'''Expresiones lambda'''\n",
    "def hacer_incrementador(n):\n",
    "    return lambda x: x+n\n"
   ]
  },
  {
   "cell_type": "code",
   "execution_count": 66,
   "metadata": {},
   "outputs": [],
   "source": [
    "'''Los valores por omisión son evaluados en el momento de la definición de la función, en el ámbito de la definición, entonces'''\n",
    "i=5\n",
    "def f(arg=i):\n",
    "    print(arg)\n",
    "i = 6"
   ]
  },
  {
   "cell_type": "code",
   "execution_count": 68,
   "metadata": {},
   "outputs": [
    {
     "name": "stdout",
     "output_type": "stream",
     "text": [
      "5\n"
     ]
    }
   ],
   "source": [
    "f()"
   ]
  },
  {
   "cell_type": "code",
   "execution_count": 63,
   "metadata": {},
   "outputs": [],
   "source": [
    "'''Advertencia importante: El valor por omisión es evaluado solo una vez.'''\n",
    "def f(a, L=[]):\n",
    "    L.append(a)\n",
    "    return L\n"
   ]
  },
  {
   "cell_type": "code",
   "execution_count": 65,
   "metadata": {},
   "outputs": [
    {
     "name": "stdout",
     "output_type": "stream",
     "text": [
      "[1, 1]\n",
      "[1, 1, 2]\n",
      "[1, 1, 2, 3]\n"
     ]
    }
   ],
   "source": [
    "print(f(1))\n",
    "print(f(2))\n",
    "print(f(3))"
   ]
  },
  {
   "cell_type": "code",
   "execution_count": 56,
   "metadata": {},
   "outputs": [],
   "source": [
    "def suma(a=1, b=2):\n",
    "    return a+b"
   ]
  },
  {
   "cell_type": "code",
   "execution_count": 62,
   "metadata": {},
   "outputs": [
    {
     "data": {
      "text/plain": [
       "9"
      ]
     },
     "execution_count": 62,
     "metadata": {},
     "output_type": "execute_result"
    }
   ],
   "source": [
    "suma(4,5)"
   ]
  },
  {
   "cell_type": "code",
   "execution_count": 77,
   "metadata": {},
   "outputs": [],
   "source": [
    "'''Palabras claves como argumentos'''\n",
    "def loro(tension, estado='muerto', accion='explotar', tipo='Azul Nordico'):\n",
    "    print(\"-- Este loro no va a\", accion, end=' ')\n",
    "    print(\"Si le aplicas\", tension, \"voltios.\")\n",
    "    print(\"-- Gran plumaje tiene el\", tipo)\n",
    "    print(\"-- Esta\", estado, \"!\")"
   ]
  },
  {
   "cell_type": "code",
   "execution_count": null,
   "metadata": {},
   "outputs": [],
   "source": [
    "loro(tension=5.0, 'muerto')"
   ]
  },
  {
   "cell_type": "code",
   "execution_count": 101,
   "metadata": {},
   "outputs": [],
   "source": [
    "def ventadequeso(tipo, *argumentos, **palabrasextras):\n",
    "    print('-- ¿Tiene', tipo, '?')\n",
    "    print('-- Lo siento, nos quedamos sin', tipo)\n",
    "    for arg in argumentos:\n",
    "        print(arg)\n",
    "    print('=' * 42)\n",
    "    for c in palabrasextras:\n",
    "        print(c , ':', palabrasextras[c])\n"
   ]
  },
  {
   "cell_type": "code",
   "execution_count": 102,
   "metadata": {},
   "outputs": [
    {
     "name": "stdout",
     "output_type": "stream",
     "text": [
      "-- ¿Tiene Linburguer ?\n",
      "-- Lo siento, nos quedamos sin Linburguer\n",
      "Es muy liquido, sr.\n",
      "Realmente es muy liquido sr.\n",
      "==========================================\n",
      "cliente : Juan garau\n",
      "vendedor : Miguel Paez\n",
      "puesto : Venta de queso argentino\n"
     ]
    }
   ],
   "source": [
    "ventadequeso('Linburguer', 'Es muy liquido, sr.', 'Realmente es muy liquido sr.', cliente='Juan garau', vendedor='Miguel Paez', puesto='Venta de queso argentino')"
   ]
  },
  {
   "cell_type": "code",
   "execution_count": 103,
   "metadata": {},
   "outputs": [],
   "source": [
    "'''Listas de argumentos arbitrarios'''\n",
    "def muchos_items(archivo, separador, *args):\n",
    "    archivo.write(separador.join(args))\n"
   ]
  },
  {
   "cell_type": "code",
   "execution_count": 104,
   "metadata": {},
   "outputs": [
    {
     "data": {
      "text/plain": [
       "[3, 4, 5]"
      ]
     },
     "execution_count": 104,
     "metadata": {},
     "output_type": "execute_result"
    }
   ],
   "source": [
    "'''Desempaquetando una lista de argumentos'''\n",
    "list(range(3,6)) # llamada normal con arguentos separados\n"
   ]
  },
  {
   "cell_type": "code",
   "execution_count": 105,
   "metadata": {},
   "outputs": [
    {
     "data": {
      "text/plain": [
       "[3, 4, 5]"
      ]
     },
     "execution_count": 105,
     "metadata": {},
     "output_type": "execute_result"
    }
   ],
   "source": [
    "'''Desempaquetando una lista de argumentos'''\n",
    "args = [3, 6]\n",
    "list(range(*args)) # Llamada con argumentos desempaquetados de la lista"
   ]
  },
  {
   "cell_type": "code",
   "execution_count": 107,
   "metadata": {},
   "outputs": [],
   "source": [
    "'''Desempaquetando una lista de argumentos'''\n",
    "# Del mismo modo, los diccionarios pueden entregar argumentos nombrados con el operador **\n",
    "def loro(tension, estado='rostizado', accion='explotar'):\n",
    "    print('-- Este loro no va a', accion, end=' ')\n",
    "    print('Si le aplicas', tension, 'voltios.', end=' ')\n",
    "    print('esta', estado, '!')\n",
    "\n",
    "d = {'tension': 'cinco mil', 'estado': 'demacrado', 'accion': 'VOLAR'}"
   ]
  },
  {
   "cell_type": "code",
   "execution_count": 109,
   "metadata": {},
   "outputs": [
    {
     "name": "stdout",
     "output_type": "stream",
     "text": [
      "-- Este loro no va a VOLAR Si le aplicas cinco mil voltios. esta demacrado !\n"
     ]
    }
   ],
   "source": [
    "loro(**d)"
   ]
  },
  {
   "cell_type": "code",
   "execution_count": 21,
   "metadata": {},
   "outputs": [
    {
     "name": "stdout",
     "output_type": "stream",
     "text": [
      "1, 2, 3, 4, 5\n",
      "1-2-3-4-5\n",
      "1-2-3-4-5 "
     ]
    }
   ],
   "source": [
    "'''Forma de usar funcion print'''\n",
    "print(1,2,3,4,5, sep=', ')\n",
    "print(1,2,3,4,5, sep='-')\n",
    "print(1,2,3,4,5, sep='-', end=' ')"
   ]
  },
  {
   "cell_type": "code",
   "execution_count": 16,
   "metadata": {},
   "outputs": [
    {
     "name": "stdout",
     "output_type": "stream",
     "text": [
      "0, 1, 2, 3, 4, 5, 6, 7, 8, 9, "
     ]
    }
   ],
   "source": [
    "'''Funcion range: Star, stop, step'''\n",
    "for x in range(10):\n",
    "    print(x, end=', ')"
   ]
  }
 ],
 "metadata": {
  "kernelspec": {
   "display_name": "Python 3.10.5 64-bit",
   "language": "python",
   "name": "python3"
  },
  "language_info": {
   "codemirror_mode": {
    "name": "ipython",
    "version": 3
   },
   "file_extension": ".py",
   "mimetype": "text/x-python",
   "name": "python",
   "nbconvert_exporter": "python",
   "pygments_lexer": "ipython3",
   "version": "3.10.5"
  },
  "orig_nbformat": 4,
  "vscode": {
   "interpreter": {
    "hash": "43020d40ed92f90b08f743a6bd722d6e942804ac8c9d6e8110c37661db1aa2be"
   }
  }
 },
 "nbformat": 4,
 "nbformat_minor": 2
}
