{
 "cells": [
  {
   "cell_type": "code",
   "execution_count": null,
   "metadata": {},
   "outputs": [],
   "source": [
    "sal = int(input()) \n",
    "\n",
    "if (sal >= 0 and sal <= 600.00):\n",
    "  nov_sal = sal*(0.17) + sal\n",
    "  rea_gan = sal*(0.17)\n",
    "  per = 17/100\n",
    "  print(f\"Novo salario: {nov_sal:.2f} Reajuste ganho: {rea_gan:.2f} Em percentual: {per}\")\n",
    "elif (sal >= 600.01 and sal <= 900.00):\n",
    "  nov_sal = sal*(0.13) + sal\n",
    "  rea_gan = sal*(0.13)\n",
    "  per = 13/100\n",
    "  print(f\"Novo salario: {nov_sal:.2f} Reajuste ganho: {rea_gan:.2f} Em percentual: {per}\")\n",
    "elif (sal >= 900.01 and sal <= 1500.00):\n",
    "  nov_sal = sal*(0.12) + sal \n",
    "  rea_gan = sal*(0.12)\n",
    "  per = 12/100\n",
    "  print(f\"Novo salario: {nov_sal:.2f} Reajuste ganho: {rea_gan:.2f} Em percentual: {per}\")\n",
    "elif (sal >= 1500.01 and sal <= 2000.00):\n",
    "  nov_sal = sal*(0.1) + sal \n",
    "  rea_gan = sal*(0.1)\n",
    "  per = 10/100\n",
    "  print(f\"Novo salario: {nov_sal:.2f} Reajuste ganho: {rea_gan:.2f} Em percentual: {per}\")\n",
    "else: \n",
    "  nov_sal = sal*(0.05) + sal\n",
    "  rea_gan = sal*(0.05)\n",
    "  per = 5/100\n",
    "  print(f\"Novo salario: {nov_sal:.2f} Reajuste ganho: {rea_gan:.2f} Em percentual: {per}\") \n"
   ]
  },
  {
   "cell_type": "code",
   "execution_count": null,
   "metadata": {},
   "outputs": [],
   "source": [
    "print(f'Novo salario: {\"{:.2f}\".format(nov_sal)}\\n Reajuste ganho: {\"{:.2f}\".format(rea_gan)}\\n Em percentual: {per} %')\n",
    "print(f'Novo salario: {\"{:.2f}\".format(novoSalario)}\\nReajuste ganho: {\"{:.2f}\".format(valorGanho)}\\nEm percentual: {porcentagem} %') "
   ]
  },
  {
   "cell_type": "code",
   "execution_count": 1,
   "metadata": {},
   "outputs": [],
   "source": [
    "while True:\n",
    "    try:\n",
    "        situacao = input()\n",
    "        if situacao == \"esquerda\":\n",
    "            print(\"ingles\")\n",
    "        elif situacao == \"direita\":\n",
    "            print(\"frances\")\n",
    "        elif situacao == \"nenhuma\":\n",
    "            print(\"portugues\")\n",
    "        elif situacao == \"ambas\":\n",
    "            print(\"caiu\")\n",
    "    except EOFError:\n",
    "        break\n"
   ]
  },
  {
   "cell_type": "code",
   "execution_count": 3,
   "metadata": {},
   "outputs": [
    {
     "name": "stdout",
     "output_type": "stream",
     "text": [
      "Novo salario:  1120.00 Reajuste ganho:  120.00 Em percentual: 12 %\n"
     ]
    }
   ],
   "source": [
    "salario = float(input()) \n",
    "\n",
    "if (salario >= 0 and salario <= 600.00):\n",
    "  rea_gan = salario * 17/100\n",
    "  nov_sal = salario + rea_gan \n",
    "  print(f'''Novo salario: {nov_sal: .2f} Reajuste ganho: {rea_gan: .2f} Em percentual: 17 %''')\n",
    "  \n",
    "elif (salario >= 600.01 and salario <= 900.00):\n",
    "  rea_gan = salario * 13/100\n",
    "  nov_sal = salario + rea_gan\n",
    "  print(f'''Novo salario: {nov_sal: .2f} Reajuste ganho: {rea_gan: .2f} Em percentual: 13 %''')\n",
    "\n",
    "elif (salario >= 900.01 and salario <= 1500.00):\n",
    "  rea_gan = salario * 12/100\n",
    "  nov_sal = salario + rea_gan \n",
    "  print(f'''Novo salario: {nov_sal: .2f} Reajuste ganho: {rea_gan: .2f} Em percentual: 12 %''')\n",
    "\n",
    "elif (salario >= 1500.01 and salario <= 2000.00):\n",
    "  rea_gan = salario * 10/100\n",
    "  nov_sal = salario + rea_gan \n",
    "  print(f'''Novo salario: {nov_sal: .2f} Reajuste ganho: {rea_gan: .2f} Em percentual: 10 %''')\n",
    "\n",
    "else: \n",
    "  rea_gan = salario * 5/100\n",
    "  nov_sal = salario + rea_gan\n",
    "  print(f'''Novo salario: {nov_sal: .2f} Reajuste ganho: {rea_gan: .2f} Em percentual: 5 %''')"
   ]
  }
 ],
 "metadata": {
  "kernelspec": {
   "display_name": "Python 3.10.5 64-bit",
   "language": "python",
   "name": "python3"
  },
  "language_info": {
   "codemirror_mode": {
    "name": "ipython",
    "version": 3
   },
   "file_extension": ".py",
   "mimetype": "text/x-python",
   "name": "python",
   "nbconvert_exporter": "python",
   "pygments_lexer": "ipython3",
   "version": "3.10.5"
  },
  "orig_nbformat": 4,
  "vscode": {
   "interpreter": {
    "hash": "43020d40ed92f90b08f743a6bd722d6e942804ac8c9d6e8110c37661db1aa2be"
   }
  }
 },
 "nbformat": 4,
 "nbformat_minor": 2
}
